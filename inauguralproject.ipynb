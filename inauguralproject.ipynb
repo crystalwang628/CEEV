{
 "cells": [
  {
   "cell_type": "code",
   "execution_count": 1,
   "metadata": {},
   "outputs": [],
   "source": [
    "# Import packages\n",
    "\n",
    "import numpy as np\n",
    "from scipy import optimize\n",
    "import matplotlib.pyplot as plt\n",
    "import math\n",
    "\n",
    "# Autoreload modules when code is run\n",
    "%load_ext autoreload\n",
    "%autoreload 2\n",
    "\n",
    "# Local modules\n",
    "import inauguralproject\n"
   ]
  },
  {
   "cell_type": "code",
   "execution_count": 2,
   "metadata": {},
   "outputs": [
    {
     "name": "stdout",
     "output_type": "stream",
     "text": [
      "The utility is 0.17158308604731995\n",
      "The labour is [0.39999639]\n",
      "The consumption is [1.23999783]\n"
     ]
    }
   ],
   "source": [
    "# Question 1\n",
    "\n",
    "# Define parameters\n",
    "m = 1 \n",
    "v = 10 \n",
    "epsilon = 0.3 \n",
    "tau_0 = 0.4 \n",
    "tau_1 = 0.1 \n",
    "kappa = 0.4 \n",
    "w = 1 # Initial assumption of wage rate\n",
    "\n",
    "# Define income, utility and optimal labour functions\n",
    "def income(l,w):\n",
    "    return m + w*l - (tau_0*w*l + tau_1 * max([w*l - kappa,0]))\n",
    "\n",
    "def utility(l,w):\n",
    "    return math.log(income(l,w)) - v * ((l**(1+1/epsilon)) / (1 + 1/epsilon))\n",
    "\n",
    "def optimizeutility(w):\n",
    "    bounds = ((0,1),) # Labour must be between 0 and 1\n",
    "    initial_guess = (1/2) # A feasible guess\n",
    "    res = optimize.minimize(\n",
    "        lambda l: -utility(l,w),initial_guess, # Max utility equals negative minimum utility\n",
    "        method='SLSQP',bounds=bounds)\n",
    "    \n",
    "    print(\"The utility is\", -res.fun)\n",
    "    print(\"The labour is\", res.x)\n",
    "    print(\"The consumption is\", income(res.x,w))\n",
    "optimizeutility(1)\n"
   ]
  },
  {
   "cell_type": "code",
   "execution_count": 3,
   "metadata": {},
   "outputs": [
    {
     "data": {
      "text/plain": [
       "<function matplotlib.pyplot.show(*args, **kw)>"
      ]
     },
     "execution_count": 3,
     "metadata": {},
     "output_type": "execute_result"
    },
    {
     "data": {
      "image/png": "[encoded data removed]",
      "text/plain": [
       "<Figure size 720x288 with 2 Axes>"
      ]
     },
     "metadata": {},
     "output_type": "display_data"
    }
   ],
   "source": [
    "# Question 2\n",
    "\n",
    "N = 10000 # Number of populations\n",
    "w_vector = np.linspace(0.5,1.5,N)\n",
    "l_vector = np.empty(N)\n",
    "c_vector = np.empty(N)\n",
    "\n",
    "# Setting up the wage vector\n",
    "for i,w in enumerate(w_vector):\n",
    "    bounds = ((0,1),) # Labour must be between 0 and 1\n",
    "    initial_guess = (1/2) # A feasible guess\n",
    "    res = optimize.minimize(\n",
    "        lambda l: -utility(l,w),initial_guess, # Max utility equals negative minimum utility\n",
    "        method='SLSQP',bounds=bounds)\n",
    "    l_vector[i] = res.x\n",
    "    c_vector[i] = income(l_vector[i],w)\n",
    "\n",
    "# Setting up the plot\n",
    "plt.style.use('seaborn')\n",
    "fig = plt.figure(figsize=(10,4))\n",
    "\n",
    "# Plotting graph 1\n",
    "ax_left = fig.add_subplot(1,2,1)\n",
    "ax_left.plot(w_vector,l_vector)\n",
    "ax_left.set_title('Optimal labour supply as a function of wage')\n",
    "ax_left.set_xlabel('$w$')\n",
    "ax_left.set_ylabel('$l$')\n",
    "ax_left.grid(True)\n",
    "\n",
    "# Plotting graph 2\n",
    "ax_right = fig.add_subplot(1,2,2)\n",
    "ax_right.plot(w_vector, c_vector)\n",
    "ax_right.set_title('Optimal consumption as a function of wage')\n",
    "ax_right.set_xlabel('$w$')\n",
    "ax_right.set_ylabel('$c$')\n",
    "ax_right.grid(True)\n",
    "\n",
    "plt.show\n"
   ]
  },
  {
   "cell_type": "code",
   "execution_count": 4,
   "metadata": {},
   "outputs": [
    {
     "name": "stdout",
     "output_type": "stream",
     "text": [
      "Total tax revenue is 1806.4887606598818\n"
     ]
    }
   ],
   "source": [
    "# Question 3\n",
    "\n",
    "# Define tax revenue function\n",
    "def tax_revenue(w_vector,l_vector,tau_0,tau_1,kappa):\n",
    "    revenue = np.sum(tau_0*w_vector*l_vector + tau_1*np.max(w_vector*l_vector-kappa,0))\n",
    "    return revenue\n",
    "\n",
    "print(\"Total tax revenue is\", tax_revenue(w_vector,l_vector,tau_0,tau_1,kappa))\n",
    "\n"
   ]
  },
  {
   "cell_type": "code",
   "execution_count": 5,
   "metadata": {},
   "outputs": [
    {
     "name": "stdout",
     "output_type": "stream",
     "text": [
      "Total tax revenue with new epsilon is 3580.566225184207\n"
     ]
    }
   ],
   "source": [
    "# Question 4\n",
    "\n",
    "# Redefining epsilon\n",
    "epsilon = 0.1\n",
    "\n",
    "N = 10000 # Number of population\n",
    "w_vector = np.linspace(0.5,1.5,N)\n",
    "l_vector_new = np.empty(N)\n",
    "c_vector_new = np.empty(N)\n",
    "\n",
    "# New labour and new consumption vector\n",
    "l_vector_new = np.empty(N)\n",
    "for i,w in enumerate(w_vector):\n",
    "    bounds = ((0,1),) # Labour must be between 0 and 1\n",
    "    initial_guess = (1/2) # A feasible guess\n",
    "    res = optimize.minimize(\n",
    "        lambda l: -utility(l,w),initial_guess, # Max utility equals negative minimum utility\n",
    "        method='SLSQP',bounds=bounds)\n",
    "    l_vector_new[i] = res.x\n",
    "    c_vector_new[i] = income(l_vector_new[i],w)\n",
    "\n",
    "# Define new tax revenue function\n",
    "def tax_revenue_new(w_vector,l_vector_new,tau_0,tau_1,kappa, epsilon):\n",
    "    revenue_new = np.sum(tau_0*w_vector*l_vector_new + tau_1*np.max(w_vector*l_vector_new-kappa,0))\n",
    "    return revenue_new\n",
    "    \n",
    "print(\"Total tax revenue with new epsilon is\", tax_revenue(w_vector,l_vector_new,tau_0,tau_1,kappa))\n"
   ]
  },
  {
   "cell_type": "code",
   "execution_count": 6,
   "metadata": {},
   "outputs": [
    {
     "name": "stdout",
     "output_type": "stream",
     "text": [
      "Optimization terminated successfully.\n",
      "Standard labor income is 0.9259741409926628\n",
      "Top bracket labor income is 0.9592130246396214\n",
      "Cut-off for top labor income is 0.34171840876261966\n",
      "The total tax revenue is 6411.445302185219\n"
     ]
    }
   ],
   "source": [
    "# Question 5\n",
    "\n",
    "# Define new income function for tax optimization with unknown parameters\n",
    "def income_tax(x):\n",
    "    w = x[0]\n",
    "    l = x[1]\n",
    "    tau_0 = x[2]\n",
    "    tau_1 = x[3]\n",
    "    kappa = x[4]\n",
    "    return m + x[0]*x[1] - (x[2]*x[0]*x[1] + x[3] * max([x[0]*x[1] - x[4],0]))\n",
    "\n",
    "# Define tax function for tax optimization with unknown parameters\n",
    "def tax_fct(x):\n",
    "    w = x[0]\n",
    "    l = x[1]\n",
    "    tau_0 = x[2]\n",
    "    tau_1 = x[3]\n",
    "    kappa = x[4]\n",
    "    tax = np.sum(x[2]*x[0]*x[1] + x[3]*np.max(x[0]*x[1]-x[4],0))\n",
    "    return -tax\n",
    "\n",
    "# Multivariate optimizer with regards to unknown parameters\n",
    "x0 = [1, 1, 1, 1, 1]\n",
    "constraint = ({\"type\":\"ineq\",\"fun\":income_tax})\n",
    "bounds = ((0.5,1.5),(0,1),(0,1),(0,1),(0,1))\n",
    "\n",
    "tax_res = optimize.minimize(tax_fct, x0, bounds=bounds,constraints=constraint, method='SLSQP')\n",
    "print(tax_res.message)\n",
    "\n",
    "# Matching results\n",
    "w_opt = tax_res.x[0]\n",
    "l_opt = tax_res.x[1]\n",
    "tau_0_opt = tax_res.x[2]\n",
    "tau_1_opt = tax_res.x[3]\n",
    "kappa_opt = tax_res.x[4]\n",
    "c_opt = income_tax(tax_res.x)\n",
    "utility_opt_tax = utility(c_opt,l_opt)\n",
    "tax_revenue_opt = tax_revenue(w_vector,l_vector,tau_0_opt,tau_1_opt,kappa_opt)\n",
    "\n",
    "# Printing results\n",
    "print(\"Standard labor income is\", tau_0_opt)\n",
    "print(\"Top bracket labor income is\", tau_1_opt)\n",
    "print(\"Cut-off for top labor income is\", kappa_opt)\n",
    "print(\"The total tax revenue is\", tax_revenue_opt)"
   ]
  },
  {
   "cell_type": "code",
   "execution_count": null,
   "metadata": {},
   "outputs": [],
   "source": []
  }
 ],
 "metadata": {
  "kernelspec": {
   "display_name": "Python 3",
   "language": "python",
   "name": "python3"
  },
  "language_info": {
   "codemirror_mode": {
    "name": "ipython",
    "version": 3
   },
   "file_extension": ".py",
   "mimetype": "text/x-python",
   "name": "python",
   "nbconvert_exporter": "python",
   "pygments_lexer": "ipython3",
   "version": "3.7.4"
  }
 },
 "nbformat": 4,
 "nbformat_minor": 4
}
